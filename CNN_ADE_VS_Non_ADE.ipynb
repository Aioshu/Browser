{
  "nbformat": 4,
  "nbformat_minor": 0,
  "metadata": {
    "colab": {
      "name": "CNN_ADR.ipynb",
      "provenance": [],
      "collapsed_sections": [],
      "authorship_tag": "ABX9TyMUHanSG+nBFI6RHbtOuFid",
      "include_colab_link": true
    },
    "kernelspec": {
      "display_name": "Python 3",
      "name": "python3"
    },
    "language_info": {
      "name": "python"
    },
    "accelerator": "GPU"
  },
  "cells": [
    {
      "cell_type": "markdown",
      "metadata": {
        "id": "view-in-github",
        "colab_type": "text"
      },
      "source": [
        "<a href=\"https://colab.research.google.com/github/Aioshu/Browser/blob/master/CNN_ADE_VS_Non_ADE.ipynb\" target=\"_parent\"><img src=\"https://colab.research.google.com/assets/colab-badge.svg\" alt=\"Open In Colab\"/></a>"
      ]
    },
    {
      "cell_type": "code",
      "metadata": {
        "id": "QlFSST7_tvSV"
      },
      "source": [
        "import pandas as pd\n",
        "import matplotlib.pyplot as plt\n",
        "import re\n",
        "import time\n",
        "import warnings\n",
        "import numpy as np\n",
        "from nltk.corpus import stopwords\n",
        "from sklearn.decomposition import TruncatedSVD\n",
        "from sklearn.preprocessing import normalize\n",
        "from sklearn.feature_extraction.text import CountVectorizer\n",
        "from sklearn.manifold import TSNE\n",
        "import seaborn as sns\n",
        "from sklearn.neighbors import KNeighborsClassifier\n",
        "from sklearn.metrics import confusion_matrix\n",
        "from sklearn.metrics import accuracy_score, log_loss\n",
        "from sklearn.feature_extraction.text import TfidfVectorizer\n",
        "from sklearn.linear_model import SGDClassifier\n",
        "#from imblearn.over_sampling import SMOTE\n",
        "from collections import Counter\n",
        "from scipy.sparse import hstack\n",
        "from sklearn.multiclass import OneVsRestClassifier\n",
        "from sklearn.svm import SVC\n",
        "from sklearn.model_selection import StratifiedKFold \n",
        "from collections import Counter, defaultdict\n",
        "from sklearn.calibration import CalibratedClassifierCV\n",
        "from sklearn.naive_bayes import MultinomialNB\n",
        "from sklearn.naive_bayes import GaussianNB\n",
        "from sklearn.model_selection import train_test_split\n",
        "from sklearn.model_selection import GridSearchCV\n",
        "import math\n",
        "from sklearn.metrics import normalized_mutual_info_score\n",
        "from sklearn.ensemble import RandomForestClassifier\n",
        "import warnings\n",
        "warnings.filterwarnings(\"ignore\")\n",
        "import os\n",
        "from __future__ import division, print_function\n",
        "from gensim import models\n",
        "from keras.callbacks import ModelCheckpoint\n",
        "from keras.layers import Dense, Dropout, Reshape, Flatten, concatenate, Input, Conv1D, GlobalMaxPooling1D, Embedding\n",
        "from keras.layers.recurrent import LSTM\n",
        "from keras.models import Sequential\n",
        "from keras.preprocessing.text import Tokenizer\n",
        "from keras.preprocessing.sequence import pad_sequences\n",
        "from keras.models import Model\n",
        "from sklearn.model_selection import train_test_split\n",
        "import numpy as np\n",
        "import pandas as pd\n",
        "import os\n",
        "import collections\n",
        "import re\n",
        "import string\n",
        "#from mlxtend.classifier import StackingClassifier\n",
        "\n",
        "from sklearn import model_selection\n",
        "from sklearn.linear_model import LogisticRegression"
      ],
      "execution_count": null,
      "outputs": []
    },
    {
      "cell_type": "code",
      "metadata": {
        "id": "zVWuHZ70wa6w",
        "colab": {
          "base_uri": "https://localhost:8080/"
        },
        "outputId": "efa18124-0e6d-4cf3-fdde-6a7aead7bcc8"
      },
      "source": [
        "from google.colab import drive\n",
        "drive.mount('/content/drive')\n"
      ],
      "execution_count": null,
      "outputs": [
        {
          "output_type": "stream",
          "text": [
            "Mounted at /content/drive\n"
          ],
          "name": "stdout"
        }
      ]
    },
    {
      "cell_type": "code",
      "metadata": {
        "id": "aX8lCJWDwm0e",
        "colab": {
          "base_uri": "https://localhost:8080/",
          "height": 35
        },
        "outputId": "741820e6-ea08-4f91-96a3-a6583d389214"
      },
      "source": [
        "pwd"
      ],
      "execution_count": null,
      "outputs": [
        {
          "output_type": "execute_result",
          "data": {
            "application/vnd.google.colaboratory.intrinsic+json": {
              "type": "string"
            },
            "text/plain": [
              "'/content'"
            ]
          },
          "metadata": {
            "tags": []
          },
          "execution_count": 3
        }
      ]
    },
    {
      "cell_type": "code",
      "metadata": {
        "id": "dYIhnihHtyaX"
      },
      "source": [
        "data_path = \"/content/drive/MyDrive/AdverseDrugReaction-master/ADE-Corpus-V2/\"\n",
        "texts, labels,pubmed_ids = [], [],[]\n",
        "with open(os.path.join(data_path, 'DRUG-AE.rel')) as f:\n",
        "    for line in f:\n",
        "        pubmed_id, text = line.strip().split('|')[:2]\n",
        "        #print(pubmed_id)\n",
        "        texts.append(text)\n",
        "        pubmed_ids.append(pubmed_id)\n",
        "        labels.append(1)\n",
        "\n",
        "with open(os.path.join(data_path, 'ADE-NEG.txt')) as f:\n",
        "    for i,line in enumerate(f):\n",
        "        #print(line.strip().split(\" \")[:2])\n",
        "        if i<7000:\n",
        "            pubmed_id, neg = line.strip().split(' ')[:2]\n",
        "            text = ' '.join(line.strip().split(' ')[2:])\n",
        "            texts.append(text)\n",
        "\n",
        "            pubmed_ids.append(pubmed_id)\n",
        "            labels.append(0)\n",
        "        else:\n",
        "            break\n",
        "np.random.seed(1)\n",
        "# Shuffle the data as Keras won't shuffle validation data.\n",
        "# This can make the training ends early as we are using\n",
        "# early stop for regularisation.\n",
        "idx = np.random.permutation(len(labels))        \n",
        "labels = np.asarray(labels)[idx]\n",
        "pubmed_ida=np.asarray(pubmed_ids)[idx]\n",
        "texts = np.asarray(texts, dtype='str')[idx]\n"
      ],
      "execution_count": null,
      "outputs": []
    },
    {
      "cell_type": "code",
      "metadata": {
        "id": "PHjgHLitt51x"
      },
      "source": [
        "df={\"Index\":idx,\"Pudmed_Id\":pubmed_ida,\"Text\":texts,\"Label\":labels}#'Text', 'Label'\n",
        "data=pd.DataFrame(df)"
      ],
      "execution_count": null,
      "outputs": []
    },
    {
      "cell_type": "code",
      "metadata": {
        "id": "ONzfXbcxwzkB",
        "colab": {
          "base_uri": "https://localhost:8080/",
          "height": 255
        },
        "outputId": "a2f1618a-9a78-4ffb-9ca1-1fe0894e3904"
      },
      "source": [
        "data.head()"
      ],
      "execution_count": null,
      "outputs": [
        {
          "output_type": "execute_result",
          "data": {
            "text/html": [
              "<div>\n",
              "<style scoped>\n",
              "    .dataframe tbody tr th:only-of-type {\n",
              "        vertical-align: middle;\n",
              "    }\n",
              "\n",
              "    .dataframe tbody tr th {\n",
              "        vertical-align: top;\n",
              "    }\n",
              "\n",
              "    .dataframe thead th {\n",
              "        text-align: right;\n",
              "    }\n",
              "</style>\n",
              "<table border=\"1\" class=\"dataframe\">\n",
              "  <thead>\n",
              "    <tr style=\"text-align: right;\">\n",
              "      <th></th>\n",
              "      <th>Index</th>\n",
              "      <th>Pudmed_Id</th>\n",
              "      <th>Text</th>\n",
              "      <th>Label</th>\n",
              "    </tr>\n",
              "  </thead>\n",
              "  <tbody>\n",
              "    <tr>\n",
              "      <th>0</th>\n",
              "      <td>6941</td>\n",
              "      <td>8623881</td>\n",
              "      <td>CONCLUSIONS: Confocal microscopy can be a useful, noninvasive imaging technique helpful in the study, diagnosis, and treatment of Acanthamoeba keratitis.</td>\n",
              "      <td>0</td>\n",
              "    </tr>\n",
              "    <tr>\n",
              "      <th>1</th>\n",
              "      <td>12941</td>\n",
              "      <td>12209355</td>\n",
              "      <td>Successful treatment of post-transplant lymphoproliferative disorder in autologous blood stem cell transplant recipients.</td>\n",
              "      <td>0</td>\n",
              "    </tr>\n",
              "    <tr>\n",
              "      <th>2</th>\n",
              "      <td>5114</td>\n",
              "      <td>6810714</td>\n",
              "      <td>The authors describe a woman with chronic schizophrenia who experienced delirium, grand mal seizure, and photosensitivity after the addition of propranolol to her neuroleptic regimen.</td>\n",
              "      <td>1</td>\n",
              "    </tr>\n",
              "    <tr>\n",
              "      <th>3</th>\n",
              "      <td>10028</td>\n",
              "      <td>12032026</td>\n",
              "      <td>Oral ketamine: a promising treatment for restless legs syndrome.</td>\n",
              "      <td>0</td>\n",
              "    </tr>\n",
              "    <tr>\n",
              "      <th>4</th>\n",
              "      <td>9398</td>\n",
              "      <td>10572611</td>\n",
              "      <td>The results of an Intergroup trial, coordinated by the Southwest Oncology Group (SWOG) demonstrated markedly superior progression free and overall survival for combined chemoradiotherapy compared to radiotherapy alone.</td>\n",
              "      <td>0</td>\n",
              "    </tr>\n",
              "  </tbody>\n",
              "</table>\n",
              "</div>"
            ],
            "text/plain": [
              "   Index  ... Label\n",
              "0   6941  ...     0\n",
              "1  12941  ...     0\n",
              "2   5114  ...     1\n",
              "3  10028  ...     0\n",
              "4   9398  ...     0\n",
              "\n",
              "[5 rows x 4 columns]"
            ]
          },
          "metadata": {
            "tags": []
          },
          "execution_count": 51
        }
      ]
    },
    {
      "cell_type": "code",
      "metadata": {
        "colab": {
          "base_uri": "https://localhost:8080/"
        },
        "id": "mziE09fHV2kt",
        "outputId": "0281461f-95c0-4f87-f193-d68a937183c0"
      },
      "source": [
        "data.Label.value_counts()"
      ],
      "execution_count": null,
      "outputs": [
        {
          "output_type": "execute_result",
          "data": {
            "text/plain": [
              "0    7000\n",
              "1    6821\n",
              "Name: Label, dtype: int64"
            ]
          },
          "metadata": {
            "tags": []
          },
          "execution_count": 52
        }
      ]
    },
    {
      "cell_type": "code",
      "metadata": {
        "id": "wHuCUsckWAC8"
      },
      "source": [
        ""
      ],
      "execution_count": null,
      "outputs": []
    },
    {
      "cell_type": "code",
      "metadata": {
        "id": "xZylwhh5w0ad"
      },
      "source": [
        "pos = []\n",
        "neg = []\n",
        "for l in data.Label:\n",
        "    if l == 0:\n",
        "        pos.append(0)\n",
        "        neg.append(1)\n",
        "    elif l == 1:\n",
        "        pos.append(1)\n",
        "        neg.append(0)\n",
        "\n",
        "data['Pos']= pos\n",
        "data['Neg']= neg"
      ],
      "execution_count": null,
      "outputs": []
    },
    {
      "cell_type": "code",
      "metadata": {
        "colab": {
          "base_uri": "https://localhost:8080/",
          "height": 255
        },
        "id": "Q-iDF_gFxllE",
        "outputId": "72cf068f-6e8e-4c86-9d6c-25f3efb1c4c1"
      },
      "source": [
        "\n",
        "data.head()\n"
      ],
      "execution_count": null,
      "outputs": [
        {
          "output_type": "execute_result",
          "data": {
            "text/html": [
              "<div>\n",
              "<style scoped>\n",
              "    .dataframe tbody tr th:only-of-type {\n",
              "        vertical-align: middle;\n",
              "    }\n",
              "\n",
              "    .dataframe tbody tr th {\n",
              "        vertical-align: top;\n",
              "    }\n",
              "\n",
              "    .dataframe thead th {\n",
              "        text-align: right;\n",
              "    }\n",
              "</style>\n",
              "<table border=\"1\" class=\"dataframe\">\n",
              "  <thead>\n",
              "    <tr style=\"text-align: right;\">\n",
              "      <th></th>\n",
              "      <th>Index</th>\n",
              "      <th>Pudmed_Id</th>\n",
              "      <th>Text</th>\n",
              "      <th>Label</th>\n",
              "      <th>Pos</th>\n",
              "      <th>Neg</th>\n",
              "    </tr>\n",
              "  </thead>\n",
              "  <tbody>\n",
              "    <tr>\n",
              "      <th>0</th>\n",
              "      <td>6941</td>\n",
              "      <td>8623881</td>\n",
              "      <td>CONCLUSIONS: Confocal microscopy can be a useful, noninvasive imaging technique helpful in the study, diagnosis, and treatment of Acanthamoeba keratitis.</td>\n",
              "      <td>0</td>\n",
              "      <td>0</td>\n",
              "      <td>1</td>\n",
              "    </tr>\n",
              "    <tr>\n",
              "      <th>1</th>\n",
              "      <td>12941</td>\n",
              "      <td>12209355</td>\n",
              "      <td>Successful treatment of post-transplant lymphoproliferative disorder in autologous blood stem cell transplant recipients.</td>\n",
              "      <td>0</td>\n",
              "      <td>0</td>\n",
              "      <td>1</td>\n",
              "    </tr>\n",
              "    <tr>\n",
              "      <th>2</th>\n",
              "      <td>5114</td>\n",
              "      <td>6810714</td>\n",
              "      <td>The authors describe a woman with chronic schizophrenia who experienced delirium, grand mal seizure, and photosensitivity after the addition of propranolol to her neuroleptic regimen.</td>\n",
              "      <td>1</td>\n",
              "      <td>1</td>\n",
              "      <td>0</td>\n",
              "    </tr>\n",
              "    <tr>\n",
              "      <th>3</th>\n",
              "      <td>10028</td>\n",
              "      <td>12032026</td>\n",
              "      <td>Oral ketamine: a promising treatment for restless legs syndrome.</td>\n",
              "      <td>0</td>\n",
              "      <td>0</td>\n",
              "      <td>1</td>\n",
              "    </tr>\n",
              "    <tr>\n",
              "      <th>4</th>\n",
              "      <td>9398</td>\n",
              "      <td>10572611</td>\n",
              "      <td>The results of an Intergroup trial, coordinated by the Southwest Oncology Group (SWOG) demonstrated markedly superior progression free and overall survival for combined chemoradiotherapy compared to radiotherapy alone.</td>\n",
              "      <td>0</td>\n",
              "      <td>0</td>\n",
              "      <td>1</td>\n",
              "    </tr>\n",
              "  </tbody>\n",
              "</table>\n",
              "</div>"
            ],
            "text/plain": [
              "   Index Pudmed_Id  ... Pos  Neg\n",
              "0   6941   8623881  ...   0    1\n",
              "1  12941  12209355  ...   0    1\n",
              "2   5114   6810714  ...   1    0\n",
              "3  10028  12032026  ...   0    1\n",
              "4   9398  10572611  ...   0    1\n",
              "\n",
              "[5 rows x 6 columns]"
            ]
          },
          "metadata": {
            "tags": []
          },
          "execution_count": 54
        }
      ]
    },
    {
      "cell_type": "code",
      "metadata": {
        "colab": {
          "base_uri": "https://localhost:8080/"
        },
        "id": "IcdfJK6yyMb4",
        "outputId": "b4db1ac9-abd6-41e4-a64f-685778b7c52b"
      },
      "source": [
        "import nltk\n",
        "nltk.download('punkt')\n",
        "nltk.download('stopwords')"
      ],
      "execution_count": null,
      "outputs": [
        {
          "output_type": "stream",
          "text": [
            "[nltk_data] Downloading package punkt to /root/nltk_data...\n",
            "[nltk_data]   Package punkt is already up-to-date!\n",
            "[nltk_data] Downloading package stopwords to /root/nltk_data...\n",
            "[nltk_data]   Package stopwords is already up-to-date!\n"
          ],
          "name": "stdout"
        },
        {
          "output_type": "execute_result",
          "data": {
            "text/plain": [
              "True"
            ]
          },
          "metadata": {
            "tags": []
          },
          "execution_count": 55
        }
      ]
    },
    {
      "cell_type": "code",
      "metadata": {
        "id": "0qgd4jbAxoWU"
      },
      "source": [
        "def remove_punct(text):\n",
        "    text_nopunct = ''\n",
        "    text_nopunct = re.sub('['+string.punctuation+']', '', text)\n",
        "    return text_nopunct\n",
        "\n",
        "data['Text_Clean'] = data['Text'].apply(lambda x: remove_punct(x))\n",
        "from nltk import word_tokenize, WordNetLemmatizer\n",
        "tokens = [word_tokenize(sen) for sen in data.Text_Clean]\n",
        "def lower_token(tokens): \n",
        "    return [w.lower() for w in tokens]    \n",
        "    \n",
        "lower_tokens = [lower_token(token) for token in tokens]"
      ],
      "execution_count": null,
      "outputs": []
    },
    {
      "cell_type": "code",
      "metadata": {
        "id": "OvYzCQUPx0ii"
      },
      "source": [
        ""
      ],
      "execution_count": null,
      "outputs": []
    },
    {
      "cell_type": "code",
      "metadata": {
        "id": "PTggdWTpyFEF"
      },
      "source": [
        "from nltk.corpus import stopwords\n",
        "stoplist = stopwords.words('english')"
      ],
      "execution_count": null,
      "outputs": []
    },
    {
      "cell_type": "code",
      "metadata": {
        "id": "NiCKS93ryWJl"
      },
      "source": [
        "def remove_stop_words(tokens): \n",
        "    return [word for word in tokens if word not in stoplist]"
      ],
      "execution_count": null,
      "outputs": []
    },
    {
      "cell_type": "code",
      "metadata": {
        "id": "MIiZ3_1Gyjl4"
      },
      "source": [
        "filtered_words = [remove_stop_words(sen) for sen in lower_tokens]\n",
        "result = [' '.join(sen) for sen in filtered_words]\n",
        "data['Text_Final'] = result\n",
        "data['tokens'] = filtered_words\n",
        "data = data[['Text','Text_Final', 'tokens', 'Label', 'Pos', 'Neg']]\n"
      ],
      "execution_count": null,
      "outputs": []
    },
    {
      "cell_type": "code",
      "metadata": {
        "colab": {
          "base_uri": "https://localhost:8080/",
          "height": 309
        },
        "id": "3ti0xW9Cy1hJ",
        "outputId": "7f91fea7-f88a-416c-d972-17a9508a7b70"
      },
      "source": [
        "data[:4]\n"
      ],
      "execution_count": null,
      "outputs": [
        {
          "output_type": "execute_result",
          "data": {
            "text/html": [
              "<div>\n",
              "<style scoped>\n",
              "    .dataframe tbody tr th:only-of-type {\n",
              "        vertical-align: middle;\n",
              "    }\n",
              "\n",
              "    .dataframe tbody tr th {\n",
              "        vertical-align: top;\n",
              "    }\n",
              "\n",
              "    .dataframe thead th {\n",
              "        text-align: right;\n",
              "    }\n",
              "</style>\n",
              "<table border=\"1\" class=\"dataframe\">\n",
              "  <thead>\n",
              "    <tr style=\"text-align: right;\">\n",
              "      <th></th>\n",
              "      <th>Text</th>\n",
              "      <th>Text_Final</th>\n",
              "      <th>tokens</th>\n",
              "      <th>Label</th>\n",
              "      <th>Pos</th>\n",
              "      <th>Neg</th>\n",
              "    </tr>\n",
              "  </thead>\n",
              "  <tbody>\n",
              "    <tr>\n",
              "      <th>0</th>\n",
              "      <td>CONCLUSIONS: Confocal microscopy can be a useful, noninvasive imaging technique helpful in the study, diagnosis, and treatment of Acanthamoeba keratitis.</td>\n",
              "      <td>conclusions confocal microscopy useful noninvasive imaging technique helpful study diagnosis treatment acanthamoeba keratitis</td>\n",
              "      <td>[conclusions, confocal, microscopy, useful, noninvasive, imaging, technique, helpful, study, diagnosis, treatment, acanthamoeba, keratitis]</td>\n",
              "      <td>0</td>\n",
              "      <td>0</td>\n",
              "      <td>1</td>\n",
              "    </tr>\n",
              "    <tr>\n",
              "      <th>1</th>\n",
              "      <td>Successful treatment of post-transplant lymphoproliferative disorder in autologous blood stem cell transplant recipients.</td>\n",
              "      <td>successful treatment posttransplant lymphoproliferative disorder autologous blood stem cell transplant recipients</td>\n",
              "      <td>[successful, treatment, posttransplant, lymphoproliferative, disorder, autologous, blood, stem, cell, transplant, recipients]</td>\n",
              "      <td>0</td>\n",
              "      <td>0</td>\n",
              "      <td>1</td>\n",
              "    </tr>\n",
              "    <tr>\n",
              "      <th>2</th>\n",
              "      <td>The authors describe a woman with chronic schizophrenia who experienced delirium, grand mal seizure, and photosensitivity after the addition of propranolol to her neuroleptic regimen.</td>\n",
              "      <td>authors describe woman chronic schizophrenia experienced delirium grand mal seizure photosensitivity addition propranolol neuroleptic regimen</td>\n",
              "      <td>[authors, describe, woman, chronic, schizophrenia, experienced, delirium, grand, mal, seizure, photosensitivity, addition, propranolol, neuroleptic, regimen]</td>\n",
              "      <td>1</td>\n",
              "      <td>1</td>\n",
              "      <td>0</td>\n",
              "    </tr>\n",
              "    <tr>\n",
              "      <th>3</th>\n",
              "      <td>Oral ketamine: a promising treatment for restless legs syndrome.</td>\n",
              "      <td>oral ketamine promising treatment restless legs syndrome</td>\n",
              "      <td>[oral, ketamine, promising, treatment, restless, legs, syndrome]</td>\n",
              "      <td>0</td>\n",
              "      <td>0</td>\n",
              "      <td>1</td>\n",
              "    </tr>\n",
              "  </tbody>\n",
              "</table>\n",
              "</div>"
            ],
            "text/plain": [
              "                                                                                                                                                                                      Text  ... Neg\n",
              "0                                CONCLUSIONS: Confocal microscopy can be a useful, noninvasive imaging technique helpful in the study, diagnosis, and treatment of Acanthamoeba keratitis.  ...   1\n",
              "1                                                                Successful treatment of post-transplant lymphoproliferative disorder in autologous blood stem cell transplant recipients.  ...   1\n",
              "2  The authors describe a woman with chronic schizophrenia who experienced delirium, grand mal seizure, and photosensitivity after the addition of propranolol to her neuroleptic regimen.  ...   0\n",
              "3                                                                                                                         Oral ketamine: a promising treatment for restless legs syndrome.  ...   1\n",
              "\n",
              "[4 rows x 6 columns]"
            ]
          },
          "metadata": {
            "tags": []
          },
          "execution_count": 60
        }
      ]
    },
    {
      "cell_type": "markdown",
      "metadata": {
        "id": "DZH30zy6zGt-"
      },
      "source": [
        "# Split data into test and train"
      ]
    },
    {
      "cell_type": "code",
      "metadata": {
        "id": "4ZdKWzGyy8pY"
      },
      "source": [
        "data_train, data_test = train_test_split(data, \n",
        "                                         test_size=0.05, \n",
        "                                         random_state=42)"
      ],
      "execution_count": null,
      "outputs": []
    },
    {
      "cell_type": "code",
      "metadata": {
        "colab": {
          "base_uri": "https://localhost:8080/",
          "height": 35
        },
        "id": "68ZoVIaTlBd9",
        "outputId": "da6c9cd4-cb85-4133-979b-49a86d8f7b4f"
      },
      "source": [
        "pwd"
      ],
      "execution_count": null,
      "outputs": [
        {
          "output_type": "execute_result",
          "data": {
            "application/vnd.google.colaboratory.intrinsic+json": {
              "type": "string"
            },
            "text/plain": [
              "'/content'"
            ]
          },
          "metadata": {
            "tags": []
          },
          "execution_count": 17
        }
      ]
    },
    {
      "cell_type": "code",
      "metadata": {
        "id": "hfT569KxkyQO"
      },
      "source": [
        "data_train.to_csv(\"/content/drive/MyDrive/dataSummary/deep_model/data/data_train\",sep=\"~\")\n",
        "data_test.to_csv(\"/content/drive/MyDrive/dataSummary/deep_model/data/data_test\",sep=\"~\")"
      ],
      "execution_count": null,
      "outputs": []
    },
    {
      "cell_type": "code",
      "metadata": {
        "id": "11leYUp15eBw"
      },
      "source": [
        "import pandas as pd\n",
        "data_train=pd.read_csv(\"/content/drive/MyDrive/dataSummary/deep_model/data/data_train\",sep=\"~\")\n",
        "data_test=pd.read_csv(\"/content/drive/MyDrive/dataSummary/deep_model/data/data_test\",sep=\"~\")"
      ],
      "execution_count": null,
      "outputs": []
    },
    {
      "cell_type": "code",
      "metadata": {
        "colab": {
          "base_uri": "https://localhost:8080/"
        },
        "id": "msSw4dAatGYS",
        "outputId": "8e4566fe-a444-47bd-a597-d3f70c686779"
      },
      "source": [
        "all_training_words = [word for tokens in data_train[\"tokens\"] for word in tokens]\n",
        "training_sentence_lengths = [len(tokens) for tokens in data_train[\"tokens\"]]\n",
        "TRAINING_VOCAB = sorted(list(set(all_training_words)))\n",
        "print(\"%s words total, with a vocabulary size of %s\" % (len(all_training_words), len(TRAINING_VOCAB)))\n",
        "print(\"Max sentence length is %s\" % max(training_sentence_lengths))\n"
      ],
      "execution_count": null,
      "outputs": [
        {
          "output_type": "stream",
          "text": [
            "162871 words total, with a vocabulary size of 14502\n",
            "Max sentence length is 58\n"
          ],
          "name": "stdout"
        }
      ]
    },
    {
      "cell_type": "code",
      "metadata": {
        "colab": {
          "base_uri": "https://localhost:8080/"
        },
        "id": "FrDwCoaZzFRa",
        "outputId": "3a653efd-0bc4-48d4-a55e-fca186070541"
      },
      "source": [
        "all_test_words = [word for tokens in data_test[\"tokens\"] for word in tokens]\n",
        "test_sentence_lengths = [len(tokens) for tokens in data_test[\"tokens\"]]\n",
        "TEST_VOCAB = sorted(list(set(all_test_words)))\n",
        "print(\"%s words total, with a vocabulary size of %s\" % (len(all_test_words), len(TEST_VOCAB)))\n",
        "print(\"Max sentence length is %s\" % max(test_sentence_lengths))"
      ],
      "execution_count": null,
      "outputs": [
        {
          "output_type": "stream",
          "text": [
            "8601 words total, with a vocabulary size of 3407\n",
            "Max sentence length is 36\n"
          ],
          "name": "stdout"
        }
      ]
    },
    {
      "cell_type": "code",
      "metadata": {
        "id": "01faO6vIzYRN"
      },
      "source": [
        "# word2vec_path = 'GoogleNews-vectors-negative300.bin.gz'\n",
        "# word2vec = models.KeyedVectors.load_word2vec_format(word2vec_path, binary=True)"
      ],
      "execution_count": null,
      "outputs": []
    },
    {
      "cell_type": "code",
      "metadata": {
        "id": "2qUHmIuJzqaN"
      },
      "source": [
        "#word2vec_path = 'GoogleNews-vectors-negative300.bin.gz'\n",
        "#word2vec = models.KeyedVectors.load_word2vec_format(word2vec_path, binary=True)"
      ],
      "execution_count": null,
      "outputs": []
    },
    {
      "cell_type": "code",
      "metadata": {
        "colab": {
          "base_uri": "https://localhost:8080/"
        },
        "id": "L5Wjq1tykiAW",
        "outputId": "5a0964f0-8203-4c7b-c3b8-9a7d0435589b"
      },
      "source": [
        "#from gensim.models.word2vec import Word2Vec\n",
        "import gensim.downloader as api\n",
        "\n",
        "wv = api.load('word2vec-google-news-300')"
      ],
      "execution_count": null,
      "outputs": [
        {
          "output_type": "stream",
          "text": [
            "[==================================================] 100.0% 1662.8/1662.8MB downloaded\n"
          ],
          "name": "stdout"
        }
      ]
    },
    {
      "cell_type": "code",
      "metadata": {
        "id": "TFIIdBmGCT9n"
      },
      "source": [
        "cd /content/drive/MyDrive/dataSummary/\n",
        "!unzip glove*.zip"
      ],
      "execution_count": null,
      "outputs": []
    },
    {
      "cell_type": "code",
      "metadata": {
        "id": "lujSjwK54Q9Z"
      },
      "source": [
        "from keras.callbacks import EarlyStopping"
      ],
      "execution_count": null,
      "outputs": []
    },
    {
      "cell_type": "code",
      "metadata": {
        "id": "9_SyryCt0daW"
      },
      "source": [
        "def get_average_word2vec(tokens_list, vector, generate_missing=False, k=300):\n",
        "    if len(tokens_list)<1:\n",
        "        return np.zeros(k)\n",
        "    if generate_missing:\n",
        "        vectorized = [vector[word] if word in vector else np.random.rand(k) for word in tokens_list]\n",
        "    else:\n",
        "        vectorized = [vector[word] if word in vector else np.zeros(k) for word in tokens_list]\n",
        "    length = len(vectorized)\n",
        "    summed = np.sum(vectorized, axis=0)\n",
        "    averaged = np.divide(summed, length)\n",
        "    return averaged\n",
        "\n",
        "def get_word2vec_embeddings(vectors, clean_comments, generate_missing=False):\n",
        "    embeddings = clean_comments['tokens'].apply(lambda x: get_average_word2vec(x, vectors, \n",
        "                                                                                generate_missing=generate_missing))\n",
        "    return list(embeddings)"
      ],
      "execution_count": null,
      "outputs": []
    },
    {
      "cell_type": "markdown",
      "metadata": {
        "id": "SsdgovwM0zQm"
      },
      "source": [
        "# Embedding"
      ]
    },
    {
      "cell_type": "code",
      "metadata": {
        "id": "wVVzeNa50x72"
      },
      "source": [
        "word2vec=wv\n",
        "import numpy as np\n",
        "\n",
        "training_embeddings = get_word2vec_embeddings(word2vec, data_train, generate_missing=True)\n",
        "MAX_SEQUENCE_LENGTH = 50\n",
        "EMBEDDING_DIM = 300\n"
      ],
      "execution_count": null,
      "outputs": []
    },
    {
      "cell_type": "markdown",
      "metadata": {
        "id": "Mxwr4NxV1A2X"
      },
      "source": [
        "# Tokenize and Pad sequences¶\n"
      ]
    },
    {
      "cell_type": "code",
      "metadata": {
        "id": "Xq60OCoA1BZT",
        "colab": {
          "base_uri": "https://localhost:8080/"
        },
        "outputId": "19cfc0be-6b17-4231-bced-e95bccda974b"
      },
      "source": [
        "tokenizer = Tokenizer(num_words=len(TRAINING_VOCAB), lower=True, char_level=False)\n",
        "tokenizer.fit_on_texts(data_train[\"Text_Final\"].tolist())\n",
        "training_sequences = tokenizer.texts_to_sequences(data_train[\"Text_Final\"].tolist())\n",
        "\n",
        "train_word_index = tokenizer.word_index\n",
        "print('Found %s unique tokens.' % len(train_word_index))\n",
        "\n",
        "train_cnn_data = pad_sequences(training_sequences, maxlen=MAX_SEQUENCE_LENGTH)\n",
        "\n",
        "train_embedding_weights = np.zeros((len(train_word_index)+1, EMBEDDING_DIM))\n",
        "for word,index in train_word_index.items():\n",
        "    train_embedding_weights[index,:] = word2vec[word] if word in word2vec else np.random.rand(EMBEDDING_DIM)\n",
        "print(train_embedding_weights.shape)\n",
        "\n",
        "\n",
        "test_sequences = tokenizer.texts_to_sequences(data_test[\"Text_Final\"].tolist())\n",
        "test_cnn_data = pad_sequences(test_sequences, maxlen=MAX_SEQUENCE_LENGTH)\n"
      ],
      "execution_count": null,
      "outputs": [
        {
          "output_type": "stream",
          "text": [
            "Found 14502 unique tokens.\n",
            "(14503, 300)\n"
          ],
          "name": "stdout"
        }
      ]
    },
    {
      "cell_type": "code",
      "metadata": {
        "id": "aqim2QxqSvpN"
      },
      "source": [
        "from google.colab import drive\n",
        "drive.mount('/content/drive')"
      ],
      "execution_count": null,
      "outputs": []
    },
    {
      "cell_type": "markdown",
      "metadata": {
        "id": "SYuU7cbI1Bzk"
      },
      "source": [
        "# Define CNN¶\n"
      ]
    },
    {
      "cell_type": "code",
      "metadata": {
        "id": "UYpUIWfU1blL"
      },
      "source": [
        "def ConvNet(embeddings, max_sequence_length, num_words, embedding_dim, labels_index):\n",
        "    \n",
        "    embedding_layer = Embedding(num_words,\n",
        "                            embedding_dim,\n",
        "                            weights=[embeddings],\n",
        "                            input_length=max_sequence_length,\n",
        "                            trainable=False)\n",
        "    \n",
        "    sequence_input = Input(shape=(max_sequence_length,), dtype='int32')\n",
        "    embedded_sequences = embedding_layer(sequence_input)\n",
        "\n",
        "    convs = []\n",
        "    filter_sizes = [2,3,4,5,6]\n",
        "\n",
        "    for filter_size in filter_sizes:\n",
        "        l_conv = Conv1D(filters=200, kernel_size=filter_size, activation='relu')(embedded_sequences)\n",
        "        l_pool = GlobalMaxPooling1D()(l_conv)\n",
        "        convs.append(l_pool)\n",
        "\n",
        "\n",
        "    l_merge = concatenate(convs, axis=1)\n",
        "\n",
        "    x = Dropout(0.1)(l_merge)  \n",
        "    x = Dense(128, activation='relu')(x)\n",
        "    x = Dropout(0.2)(x)\n",
        "    preds = Dense(labels_index, activation='sigmoid')(x)\n",
        "\n",
        "    model = Model(sequence_input, preds)\n",
        "    #model.compile(loss='binary_crossentropy', optimizer='adam', metrics=['accuracy'])\n",
        "# checkpoint\n",
        "    model.compile(loss='binary_crossentropy',\n",
        "                  optimizer='adam',\n",
        "                  metrics=['accuracy'])\n",
        "    # simple early stopping\n",
        "    #es = EarlyStopping(monitor='val_loss', mode='min', verbose=1)\n",
        "    model.summary()\n",
        "    return model\n",
        "\n",
        "\n",
        "    "
      ],
      "execution_count": null,
      "outputs": []
    },
    {
      "cell_type": "code",
      "metadata": {
        "id": "dIu8Fxxm4inJ",
        "colab": {
          "base_uri": "https://localhost:8080/"
        },
        "outputId": "88863064-ccc5-4d5d-8d48-22a7d0994eda"
      },
      "source": [
        "len(x_train)"
      ],
      "execution_count": null,
      "outputs": [
        {
          "output_type": "execute_result",
          "data": {
            "text/plain": [
              "13129"
            ]
          },
          "metadata": {
            "tags": []
          },
          "execution_count": 47
        }
      ]
    },
    {
      "cell_type": "code",
      "metadata": {
        "id": "uI7GIhwG1csF",
        "colab": {
          "base_uri": "https://localhost:8080/"
        },
        "outputId": "9db10a9c-efeb-47fd-892c-0526b9a6e7f3"
      },
      "source": [
        "label_names = ['Pos', 'Neg']\n",
        "y_train = data_train[label_names].values\n",
        "\n",
        "x_train = train_cnn_data\n",
        "y_tr = y_train\n",
        "\n",
        "model = ConvNet(train_embedding_weights, MAX_SEQUENCE_LENGTH, len(train_word_index)+1, EMBEDDING_DIM, \n",
        "                len(list(label_names)))\n"
      ],
      "execution_count": null,
      "outputs": [
        {
          "output_type": "stream",
          "text": [
            "Model: \"model\"\n",
            "__________________________________________________________________________________________________\n",
            "Layer (type)                    Output Shape         Param #     Connected to                     \n",
            "==================================================================================================\n",
            "input_1 (InputLayer)            [(None, 50)]         0                                            \n",
            "__________________________________________________________________________________________________\n",
            "embedding (Embedding)           (None, 50, 300)      4350900     input_1[0][0]                    \n",
            "__________________________________________________________________________________________________\n",
            "conv1d (Conv1D)                 (None, 49, 200)      120200      embedding[0][0]                  \n",
            "__________________________________________________________________________________________________\n",
            "conv1d_1 (Conv1D)               (None, 48, 200)      180200      embedding[0][0]                  \n",
            "__________________________________________________________________________________________________\n",
            "conv1d_2 (Conv1D)               (None, 47, 200)      240200      embedding[0][0]                  \n",
            "__________________________________________________________________________________________________\n",
            "conv1d_3 (Conv1D)               (None, 46, 200)      300200      embedding[0][0]                  \n",
            "__________________________________________________________________________________________________\n",
            "conv1d_4 (Conv1D)               (None, 45, 200)      360200      embedding[0][0]                  \n",
            "__________________________________________________________________________________________________\n",
            "global_max_pooling1d (GlobalMax (None, 200)          0           conv1d[0][0]                     \n",
            "__________________________________________________________________________________________________\n",
            "global_max_pooling1d_1 (GlobalM (None, 200)          0           conv1d_1[0][0]                   \n",
            "__________________________________________________________________________________________________\n",
            "global_max_pooling1d_2 (GlobalM (None, 200)          0           conv1d_2[0][0]                   \n",
            "__________________________________________________________________________________________________\n",
            "global_max_pooling1d_3 (GlobalM (None, 200)          0           conv1d_3[0][0]                   \n",
            "__________________________________________________________________________________________________\n",
            "global_max_pooling1d_4 (GlobalM (None, 200)          0           conv1d_4[0][0]                   \n",
            "__________________________________________________________________________________________________\n",
            "concatenate (Concatenate)       (None, 1000)         0           global_max_pooling1d[0][0]       \n",
            "                                                                 global_max_pooling1d_1[0][0]     \n",
            "                                                                 global_max_pooling1d_2[0][0]     \n",
            "                                                                 global_max_pooling1d_3[0][0]     \n",
            "                                                                 global_max_pooling1d_4[0][0]     \n",
            "__________________________________________________________________________________________________\n",
            "dropout (Dropout)               (None, 1000)         0           concatenate[0][0]                \n",
            "__________________________________________________________________________________________________\n",
            "dense (Dense)                   (None, 128)          128128      dropout[0][0]                    \n",
            "__________________________________________________________________________________________________\n",
            "dropout_1 (Dropout)             (None, 128)          0           dense[0][0]                      \n",
            "__________________________________________________________________________________________________\n",
            "dense_1 (Dense)                 (None, 2)            258         dropout_1[0][0]                  \n",
            "==================================================================================================\n",
            "Total params: 5,680,286\n",
            "Trainable params: 1,329,386\n",
            "Non-trainable params: 4,350,900\n",
            "__________________________________________________________________________________________________\n"
          ],
          "name": "stdout"
        }
      ]
    },
    {
      "cell_type": "markdown",
      "metadata": {
        "id": "KAbkxOCD1dDn"
      },
      "source": [
        "# Train CNN¶\n"
      ]
    },
    {
      "cell_type": "code",
      "metadata": {
        "id": "pnLmzYecFeMr"
      },
      "source": [
        "mkdir /content/drive/MyDrive/dataSummary/deep_model/ashish"
      ],
      "execution_count": null,
      "outputs": []
    },
    {
      "cell_type": "code",
      "metadata": {
        "colab": {
          "base_uri": "https://localhost:8080/"
        },
        "id": "A7RYK4esVjwX",
        "outputId": "56d8db8f-f89b-4cf7-db1a-f5cdf3784caa"
      },
      "source": [
        "num_epochs = 40\n",
        "batch_size = 64\n",
        "# checkpoint\n",
        "# filepath=\"/content/drive/MyDrive/dataSummary/deep_model/weights-improvement-{epoch:02d}-{val_accuracy:.2f}.hdf5\"\n",
        "filepath=\"/content/drive/MyDrive/dataSummary/deep_model/ashish/weights-improvement-{epoch:02d}-{val_accuracy:.2f}.hdf5\"\n",
        "\n",
        "checkpoint = ModelCheckpoint(filepath, monitor='val_accuracy', verbose=1, save_best_only=True, mode='max')\n",
        "callbacks_list = [checkpoint]\n",
        "# Fit the model\n",
        "# model.fit(X, Y, validation_split=0.33, epochs=150, batch_size=10, callbacks=callbacks_list, verbose=0)\n",
        "hist = model.fit(x_train, y_tr, epochs=num_epochs, validation_split=0.05, shuffle=True, batch_size=batch_size,callbacks=callbacks_list, verbose=0)\n",
        "\n"
      ],
      "execution_count": null,
      "outputs": [
        {
          "output_type": "stream",
          "text": [
            "\n",
            "Epoch 00001: val_accuracy improved from -inf to 0.71135, saving model to /content/drive/MyDrive/dataSummary/deep_model/ashish/weights-improvement-01-0.71.hdf5\n",
            "\n",
            "Epoch 00002: val_accuracy improved from 0.71135 to 0.71287, saving model to /content/drive/MyDrive/dataSummary/deep_model/ashish/weights-improvement-02-0.71.hdf5\n",
            "\n",
            "Epoch 00003: val_accuracy did not improve from 0.71287\n",
            "\n",
            "Epoch 00004: val_accuracy improved from 0.71287 to 0.71516, saving model to /content/drive/MyDrive/dataSummary/deep_model/ashish/weights-improvement-04-0.72.hdf5\n",
            "\n",
            "Epoch 00005: val_accuracy did not improve from 0.71516\n",
            "\n",
            "Epoch 00006: val_accuracy did not improve from 0.71516\n",
            "\n",
            "Epoch 00007: val_accuracy did not improve from 0.71516\n",
            "\n",
            "Epoch 00008: val_accuracy did not improve from 0.71516\n",
            "\n",
            "Epoch 00009: val_accuracy did not improve from 0.71516\n",
            "\n",
            "Epoch 00010: val_accuracy did not improve from 0.71516\n",
            "\n",
            "Epoch 00011: val_accuracy improved from 0.71516 to 0.71896, saving model to /content/drive/MyDrive/dataSummary/deep_model/ashish/weights-improvement-11-0.72.hdf5\n",
            "\n",
            "Epoch 00012: val_accuracy did not improve from 0.71896\n",
            "\n",
            "Epoch 00013: val_accuracy did not improve from 0.71896\n",
            "\n",
            "Epoch 00014: val_accuracy did not improve from 0.71896\n",
            "\n",
            "Epoch 00015: val_accuracy did not improve from 0.71896\n",
            "\n",
            "Epoch 00016: val_accuracy did not improve from 0.71896\n",
            "\n",
            "Epoch 00017: val_accuracy did not improve from 0.71896\n",
            "\n",
            "Epoch 00018: val_accuracy did not improve from 0.71896\n",
            "\n",
            "Epoch 00019: val_accuracy did not improve from 0.71896\n",
            "\n",
            "Epoch 00020: val_accuracy did not improve from 0.71896\n",
            "\n",
            "Epoch 00021: val_accuracy did not improve from 0.71896\n",
            "\n",
            "Epoch 00022: val_accuracy did not improve from 0.71896\n",
            "\n",
            "Epoch 00023: val_accuracy did not improve from 0.71896\n",
            "\n",
            "Epoch 00024: val_accuracy improved from 0.71896 to 0.72049, saving model to /content/drive/MyDrive/dataSummary/deep_model/ashish/weights-improvement-24-0.72.hdf5\n",
            "\n",
            "Epoch 00025: val_accuracy did not improve from 0.72049\n",
            "\n",
            "Epoch 00026: val_accuracy did not improve from 0.72049\n",
            "\n",
            "Epoch 00027: val_accuracy did not improve from 0.72049\n",
            "\n",
            "Epoch 00028: val_accuracy did not improve from 0.72049\n",
            "\n",
            "Epoch 00029: val_accuracy did not improve from 0.72049\n",
            "\n",
            "Epoch 00030: val_accuracy improved from 0.72049 to 0.72125, saving model to /content/drive/MyDrive/dataSummary/deep_model/ashish/weights-improvement-30-0.72.hdf5\n",
            "\n",
            "Epoch 00031: val_accuracy did not improve from 0.72125\n",
            "\n",
            "Epoch 00032: val_accuracy did not improve from 0.72125\n",
            "\n",
            "Epoch 00033: val_accuracy did not improve from 0.72125\n",
            "\n",
            "Epoch 00034: val_accuracy did not improve from 0.72125\n",
            "\n",
            "Epoch 00035: val_accuracy did not improve from 0.72125\n",
            "\n",
            "Epoch 00036: val_accuracy did not improve from 0.72125\n",
            "\n",
            "Epoch 00037: val_accuracy did not improve from 0.72125\n",
            "\n",
            "Epoch 00038: val_accuracy did not improve from 0.72125\n",
            "\n",
            "Epoch 00039: val_accuracy did not improve from 0.72125\n",
            "\n",
            "Epoch 00040: val_accuracy did not improve from 0.72125\n"
          ],
          "name": "stdout"
        }
      ]
    },
    {
      "cell_type": "code",
      "metadata": {
        "colab": {
          "base_uri": "https://localhost:8080/"
        },
        "id": "q3KxCXA6dISA",
        "outputId": "8fb57a0d-36c1-4faa-9739-05b74220f320"
      },
      "source": [
        "from keras.models import model_from_json\n",
        "path=\"/content/drive/MyDrive/dataSummary/deep_model/\"\n",
        "model_json = model.to_json()\n",
        "with open(path+\"model_new.json\", \"w\") as json_file:\n",
        "    json_file.write(model_json)\n",
        "print(\"model_new\")\n",
        "# serialize weights to HDF5\n",
        "# model.save_weights(path+\"model_new.h5\")\n",
        "# print(\"Saved model to disk Hi\")"
      ],
      "execution_count": null,
      "outputs": [
        {
          "output_type": "stream",
          "text": [
            "model_new\n"
          ],
          "name": "stdout"
        }
      ]
    },
    {
      "cell_type": "code",
      "metadata": {
        "colab": {
          "base_uri": "https://localhost:8080/"
        },
        "id": "MQ6ZCddHXQs8",
        "outputId": "52b803f3-30a8-437e-8822-6cc99d68d265"
      },
      "source": [
        "from keras.models import Sequential\n",
        "from keras.layers import Dense\n",
        "from keras.callbacks import ModelCheckpoint\n",
        "import matplotlib.pyplot as plt\n",
        "from keras.models import model_from_json\n",
        "import numpy\n",
        "# # create model\n",
        "# model = Sequential()\n",
        "# model.add(Dense(12, input_dim=8, activation='relu'))\n",
        "# model.add(Dense(8, activation='relu'))\n",
        "# model.add(Dense(1, activation='sigmoid'))\n",
        "# load json and create model\n",
        "json_file = open('/content/drive/MyDrive/dataSummary/deep_model/model_new.json', 'r')\n",
        "loaded_model_json = json_file.read()\n",
        "json_file.close()\n",
        "loaded_model = model_from_json(loaded_model_json)\n",
        "# load weights into new model\n",
        "#loaded_model.load_weights(\"/content/drive/MyDrive/dataSummary/deep_model/model.h5\")\n",
        "print(\"Loaded model from disk\")\n",
        " \n",
        "# evaluate loaded model on test data\n",
        "#loaded_model.compile(loss='binary_crossentropy', optimizer='rmsprop', metrics=['accuracy'])\n",
        "\n",
        "# load weights\n",
        "loaded_model.load_weights(\"/content/drive/MyDrive/dataSummary/deep_model/weights-improvement-36-0.88.hdf5\")\n",
        "# Compile model (required to make predictions)\n",
        "loaded_model.compile(loss='binary_crossentropy', optimizer='adam', metrics=['accuracy'])\n",
        "# print(\"Created model and loaded weights from file\")\n",
        "# # load pima indians dataset\n",
        "# dataset = numpy.loadtxt(\"pima-indians-diabetes.csv\", delimiter=\",\")\n",
        "# # split into input (X) and output (Y) variables\n",
        "# X = dataset[:,0:8]\n",
        "# Y = dataset[:,8]\n",
        "# # estimate accuracy on whole dataset using loaded weights\n",
        "# scores = model.evaluate(X, Y, verbose=0)\n",
        "# print(\"%s: %.2f%%\" % (model.metrics_names[1], scores[1]*100))"
      ],
      "execution_count": null,
      "outputs": [
        {
          "output_type": "stream",
          "text": [
            "Loaded model from disk\n"
          ],
          "name": "stdout"
        }
      ]
    },
    {
      "cell_type": "code",
      "metadata": {
        "colab": {
          "base_uri": "https://localhost:8080/",
          "height": 163
        },
        "id": "wLuXcgdHCmZ7",
        "outputId": "e015db24-a4f6-4ca6-a539-0c8dacbc661b"
      },
      "source": [
        "list(loaded_model.count_params)"
      ],
      "execution_count": null,
      "outputs": [
        {
          "output_type": "error",
          "ename": "TypeError",
          "evalue": "ignored",
          "traceback": [
            "\u001b[0;31m---------------------------------------------------------------------------\u001b[0m",
            "\u001b[0;31mTypeError\u001b[0m                                 Traceback (most recent call last)",
            "\u001b[0;32m<ipython-input-70-560bef97cd20>\u001b[0m in \u001b[0;36m<module>\u001b[0;34m()\u001b[0m\n\u001b[0;32m----> 1\u001b[0;31m \u001b[0mlist\u001b[0m\u001b[0;34m(\u001b[0m\u001b[0mloaded_model\u001b[0m\u001b[0;34m.\u001b[0m\u001b[0mcount_params\u001b[0m\u001b[0;34m)\u001b[0m\u001b[0;34m\u001b[0m\u001b[0;34m\u001b[0m\u001b[0m\n\u001b[0m",
            "\u001b[0;31mTypeError\u001b[0m: 'method' object is not iterable"
          ]
        }
      ]
    },
    {
      "cell_type": "markdown",
      "metadata": {
        "id": "AIhzYf4n4hdJ"
      },
      "source": [
        "## Evalution of Model "
      ]
    },
    {
      "cell_type": "code",
      "metadata": {
        "colab": {
          "base_uri": "https://localhost:8080/",
          "height": 231
        },
        "id": "iklF0aFqiJXL",
        "outputId": "f8516216-03a4-42ff-fc81-63a00fbfac71"
      },
      "source": [
        "# Plot the loss and accuracy curves for training and validation \n",
        "plt.plot(loaded_model.history['val_loss'], color='b', label=\"validation loss\")\n",
        "plt.title(\"Test Loss\")\n",
        "plt.xlabel(\"Number of Epochs\")\n",
        "plt.ylabel(\"Loss\")\n",
        "plt.legend()\n",
        "plt.show()"
      ],
      "execution_count": null,
      "outputs": [
        {
          "output_type": "error",
          "ename": "TypeError",
          "evalue": "ignored",
          "traceback": [
            "\u001b[0;31m---------------------------------------------------------------------------\u001b[0m",
            "\u001b[0;31mTypeError\u001b[0m                                 Traceback (most recent call last)",
            "\u001b[0;32m<ipython-input-71-6bfb409f4810>\u001b[0m in \u001b[0;36m<module>\u001b[0;34m()\u001b[0m\n\u001b[1;32m      1\u001b[0m \u001b[0;31m# Plot the loss and accuracy curves for training and validation\u001b[0m\u001b[0;34m\u001b[0m\u001b[0;34m\u001b[0m\u001b[0;34m\u001b[0m\u001b[0m\n\u001b[0;32m----> 2\u001b[0;31m \u001b[0mplt\u001b[0m\u001b[0;34m.\u001b[0m\u001b[0mplot\u001b[0m\u001b[0;34m(\u001b[0m\u001b[0mloaded_model\u001b[0m\u001b[0;34m.\u001b[0m\u001b[0mhistory\u001b[0m\u001b[0;34m[\u001b[0m\u001b[0;34m'val_loss'\u001b[0m\u001b[0;34m]\u001b[0m\u001b[0;34m,\u001b[0m \u001b[0mcolor\u001b[0m\u001b[0;34m=\u001b[0m\u001b[0;34m'b'\u001b[0m\u001b[0;34m,\u001b[0m \u001b[0mlabel\u001b[0m\u001b[0;34m=\u001b[0m\u001b[0;34m\"validation loss\"\u001b[0m\u001b[0;34m)\u001b[0m\u001b[0;34m\u001b[0m\u001b[0;34m\u001b[0m\u001b[0m\n\u001b[0m\u001b[1;32m      3\u001b[0m \u001b[0mplt\u001b[0m\u001b[0;34m.\u001b[0m\u001b[0mtitle\u001b[0m\u001b[0;34m(\u001b[0m\u001b[0;34m\"Test Loss\"\u001b[0m\u001b[0;34m)\u001b[0m\u001b[0;34m\u001b[0m\u001b[0;34m\u001b[0m\u001b[0m\n\u001b[1;32m      4\u001b[0m \u001b[0mplt\u001b[0m\u001b[0;34m.\u001b[0m\u001b[0mxlabel\u001b[0m\u001b[0;34m(\u001b[0m\u001b[0;34m\"Number of Epochs\"\u001b[0m\u001b[0;34m)\u001b[0m\u001b[0;34m\u001b[0m\u001b[0;34m\u001b[0m\u001b[0m\n\u001b[1;32m      5\u001b[0m \u001b[0mplt\u001b[0m\u001b[0;34m.\u001b[0m\u001b[0mylabel\u001b[0m\u001b[0;34m(\u001b[0m\u001b[0;34m\"Loss\"\u001b[0m\u001b[0;34m)\u001b[0m\u001b[0;34m\u001b[0m\u001b[0;34m\u001b[0m\u001b[0m\n",
            "\u001b[0;31mTypeError\u001b[0m: 'NoneType' object is not subscriptable"
          ]
        }
      ]
    },
    {
      "cell_type": "code",
      "metadata": {
        "colab": {
          "base_uri": "https://localhost:8080/"
        },
        "id": "aeWhgWxO1-6d",
        "outputId": "918dd503-6b47-4cd1-db2d-0543e61fb21c"
      },
      "source": [
        "predictions = loaded_model.predict(test_cnn_data, batch_size=1024, verbose=1)\n",
        "labels = [1, 0]\n",
        "\n",
        "\n",
        "prediction_labels=[]\n",
        "for p in predictions:\n",
        "    prediction_labels.append(labels[np.argmax(p)])\n",
        "\n",
        "\n"
      ],
      "execution_count": null,
      "outputs": [
        {
          "output_type": "stream",
          "text": [
            "1/1 [==============================] - 0s 358ms/step\n"
          ],
          "name": "stdout"
        }
      ]
    },
    {
      "cell_type": "code",
      "metadata": {
        "colab": {
          "base_uri": "https://localhost:8080/"
        },
        "id": "VFDJgzNY2QaC",
        "outputId": "1f8e2c8b-c1f8-4469-c3c3-7f18e2d8fc38"
      },
      "source": [
        "sum(data_test.Label==prediction_labels)/len(prediction_labels)\n",
        "\n"
      ],
      "execution_count": null,
      "outputs": [
        {
          "output_type": "execute_result",
          "data": {
            "text/plain": [
              "0.8916184971098265"
            ]
          },
          "metadata": {
            "tags": []
          },
          "execution_count": 73
        }
      ]
    },
    {
      "cell_type": "code",
      "metadata": {
        "colab": {
          "base_uri": "https://localhost:8080/"
        },
        "id": "Ijn8_vxjEAB4",
        "outputId": "0f60c67e-2351-40b7-db50-0767ac065757"
      },
      "source": [
        "len(prediction_labels)"
      ],
      "execution_count": null,
      "outputs": [
        {
          "output_type": "execute_result",
          "data": {
            "text/plain": [
              "692"
            ]
          },
          "metadata": {
            "tags": []
          },
          "execution_count": 74
        }
      ]
    },
    {
      "cell_type": "code",
      "metadata": {
        "colab": {
          "base_uri": "https://localhost:8080/"
        },
        "id": "5p8xELegnx4q",
        "outputId": "936b0f0d-295e-4f01-81aa-48e2effe4c3b"
      },
      "source": [
        "from sklearn.metrics import precision_score,accuracy_score,f1_score,recall_score\n",
        "\n",
        "## Picking the vectorizer\n",
        "print(precision_score(prediction_labels, data_test.Label))\n",
        "print(recall_score(prediction_labels, data_test.Label))\n",
        "print(f1_score(prediction_labels, data_test.Label))\n"
      ],
      "execution_count": null,
      "outputs": [
        {
          "output_type": "stream",
          "text": [
            "0.869942196531792\n",
            "0.9093655589123867\n",
            "0.8892171344165437\n"
          ],
          "name": "stdout"
        }
      ]
    },
    {
      "cell_type": "code",
      "metadata": {
        "colab": {
          "base_uri": "https://localhost:8080/"
        },
        "id": "KFfqQhG6N_N-",
        "outputId": "66e6190c-2fad-4a81-cc1e-9ec345e15abe"
      },
      "source": [
        "from sklearn.metrics import precision_score,accuracy_score,f1_score,recall_score,classification_report\n",
        "print(precision_score(prediction_labels, data_test.Label))\n",
        "print(recall_score(prediction_labels, data_test.Label))\n",
        "print(f1_score(prediction_labels, data_test.Label))\n",
        "print(classification_report(prediction_labels, data_test.Label))"
      ],
      "execution_count": null,
      "outputs": [
        {
          "output_type": "stream",
          "text": [
            "0.869942196531792\n",
            "0.9093655589123867\n",
            "0.8892171344165437\n",
            "              precision    recall  f1-score   support\n",
            "\n",
            "           0       0.91      0.88      0.89       361\n",
            "           1       0.87      0.91      0.89       331\n",
            "\n",
            "    accuracy                           0.89       692\n",
            "   macro avg       0.89      0.89      0.89       692\n",
            "weighted avg       0.89      0.89      0.89       692\n",
            "\n"
          ],
          "name": "stdout"
        }
      ]
    },
    {
      "cell_type": "code",
      "metadata": {
        "colab": {
          "base_uri": "https://localhost:8080/"
        },
        "id": "OvaxTE1nPh0q",
        "outputId": "32368911-9814-41d3-eed5-e8f5061aa4a8"
      },
      "source": [
        "from sklearn.metrics import precision_score,accuracy_score,f1_score,recall_score,classification_report\n",
        "print(precision_score(prediction_labels, data_test.Label))\n",
        "print(recall_score(prediction_labels, data_test.Label))\n",
        "print(f1_score(prediction_labels, data_test.Label))\n",
        "print(classification_report(prediction_labels, data_test.Label))"
      ],
      "execution_count": null,
      "outputs": [
        {
          "output_type": "stream",
          "text": [
            "0.869942196531792\n",
            "0.9093655589123867\n",
            "0.8892171344165437\n",
            "              precision    recall  f1-score   support\n",
            "\n",
            "           0       0.91      0.88      0.89       361\n",
            "           1       0.87      0.91      0.89       331\n",
            "\n",
            "    accuracy                           0.89       692\n",
            "   macro avg       0.89      0.89      0.89       692\n",
            "weighted avg       0.89      0.89      0.89       692\n",
            "\n"
          ],
          "name": "stdout"
        }
      ]
    },
    {
      "cell_type": "code",
      "metadata": {
        "colab": {
          "base_uri": "https://localhost:8080/"
        },
        "id": "RAxZbD082R3N",
        "outputId": "d364b33a-eb13-43e8-88a2-4fc0d83cb8aa"
      },
      "source": [
        "data_test.Label.value_counts()\n"
      ],
      "execution_count": null,
      "outputs": [
        {
          "output_type": "execute_result",
          "data": {
            "text/plain": [
              "1    346\n",
              "0    346\n",
              "Name: Label, dtype: int64"
            ]
          },
          "metadata": {
            "tags": []
          },
          "execution_count": 35
        }
      ]
    },
    {
      "cell_type": "code",
      "metadata": {
        "colab": {
          "base_uri": "https://localhost:8080/",
          "height": 810
        },
        "id": "r2s0Q7DEOhH6",
        "outputId": "b44e1110-954e-4c52-dd0c-d3829b0bbc84"
      },
      "source": [
        "data_test"
      ],
      "execution_count": null,
      "outputs": [
        {
          "output_type": "execute_result",
          "data": {
            "text/html": [
              "<div>\n",
              "<style scoped>\n",
              "    .dataframe tbody tr th:only-of-type {\n",
              "        vertical-align: middle;\n",
              "    }\n",
              "\n",
              "    .dataframe tbody tr th {\n",
              "        vertical-align: top;\n",
              "    }\n",
              "\n",
              "    .dataframe thead th {\n",
              "        text-align: right;\n",
              "    }\n",
              "</style>\n",
              "<table border=\"1\" class=\"dataframe\">\n",
              "  <thead>\n",
              "    <tr style=\"text-align: right;\">\n",
              "      <th></th>\n",
              "      <th>Text</th>\n",
              "      <th>Text_Final</th>\n",
              "      <th>tokens</th>\n",
              "      <th>Label</th>\n",
              "      <th>Pos</th>\n",
              "      <th>Neg</th>\n",
              "    </tr>\n",
              "  </thead>\n",
              "  <tbody>\n",
              "    <tr>\n",
              "      <th>4288</th>\n",
              "      <td>In-vitro rechallenge of the patient's lymphocytes with cytochrome P-450 generated metabolites of phenobarbital showed extensive cytotoxicity compared to control.</td>\n",
              "      <td>invitro rechallenge patients lymphocytes cytochrome p450 generated metabolites phenobarbital showed extensive cytotoxicity compared control</td>\n",
              "      <td>[invitro, rechallenge, patients, lymphocytes, cytochrome, p450, generated, metabolites, phenobarbital, showed, extensive, cytotoxicity, compared, control]</td>\n",
              "      <td>0</td>\n",
              "      <td>0</td>\n",
              "      <td>1</td>\n",
              "    </tr>\n",
              "    <tr>\n",
              "      <th>8196</th>\n",
              "      <td>PURPOSE: The case of a patient who developed aseptic meningitis, hemolytic anemia, hepatitis, and orthostatic hypotension simultaneously during treatment with trimethoprim-sulfamethoxazole is described.</td>\n",
              "      <td>purpose case patient developed aseptic meningitis hemolytic anemia hepatitis orthostatic hypotension simultaneously treatment trimethoprimsulfamethoxazole described</td>\n",
              "      <td>[purpose, case, patient, developed, aseptic, meningitis, hemolytic, anemia, hepatitis, orthostatic, hypotension, simultaneously, treatment, trimethoprimsulfamethoxazole, described]</td>\n",
              "      <td>1</td>\n",
              "      <td>1</td>\n",
              "      <td>0</td>\n",
              "    </tr>\n",
              "    <tr>\n",
              "      <th>7558</th>\n",
              "      <td>The necessity of placing such grafts behind the ureters is reiterated and the routine performance of preoperative and postoperative excretory urography is suggested.</td>\n",
              "      <td>necessity placing grafts behind ureters reiterated routine performance preoperative postoperative excretory urography suggested</td>\n",
              "      <td>[necessity, placing, grafts, behind, ureters, reiterated, routine, performance, preoperative, postoperative, excretory, urography, suggested]</td>\n",
              "      <td>0</td>\n",
              "      <td>0</td>\n",
              "      <td>1</td>\n",
              "    </tr>\n",
              "    <tr>\n",
              "      <th>7198</th>\n",
              "      <td>Retinal dysfunction and anterior segment deposits in a patient treated with rifabutin.</td>\n",
              "      <td>retinal dysfunction anterior segment deposits patient treated rifabutin</td>\n",
              "      <td>[retinal, dysfunction, anterior, segment, deposits, patient, treated, rifabutin]</td>\n",
              "      <td>1</td>\n",
              "      <td>1</td>\n",
              "      <td>0</td>\n",
              "    </tr>\n",
              "    <tr>\n",
              "      <th>4639</th>\n",
              "      <td>An 83-year-old man receiving glipizide 10 mg bid developed symptomatic hypoglycemia within three days of adding trimethoprim/sulfamethoxazole (TMP/SMX) to his regimen.</td>\n",
              "      <td>83yearold man receiving glipizide 10 mg bid developed symptomatic hypoglycemia within three days adding trimethoprimsulfamethoxazole tmpsmx regimen</td>\n",
              "      <td>[83yearold, man, receiving, glipizide, 10, mg, bid, developed, symptomatic, hypoglycemia, within, three, days, adding, trimethoprimsulfamethoxazole, tmpsmx, regimen]</td>\n",
              "      <td>1</td>\n",
              "      <td>1</td>\n",
              "      <td>0</td>\n",
              "    </tr>\n",
              "    <tr>\n",
              "      <th>...</th>\n",
              "      <td>...</td>\n",
              "      <td>...</td>\n",
              "      <td>...</td>\n",
              "      <td>...</td>\n",
              "      <td>...</td>\n",
              "      <td>...</td>\n",
              "    </tr>\n",
              "    <tr>\n",
              "      <th>1530</th>\n",
              "      <td>Clinic records were reviewed to extract clinical and laboratory data.</td>\n",
              "      <td>clinic records reviewed extract clinical laboratory data</td>\n",
              "      <td>[clinic, records, reviewed, extract, clinical, laboratory, data]</td>\n",
              "      <td>0</td>\n",
              "      <td>0</td>\n",
              "      <td>1</td>\n",
              "    </tr>\n",
              "    <tr>\n",
              "      <th>12398</th>\n",
              "      <td>Systemic allergic reactions to aprotinin injection around the Achilles tendon.</td>\n",
              "      <td>systemic allergic reactions aprotinin injection around achilles tendon</td>\n",
              "      <td>[systemic, allergic, reactions, aprotinin, injection, around, achilles, tendon]</td>\n",
              "      <td>0</td>\n",
              "      <td>0</td>\n",
              "      <td>1</td>\n",
              "    </tr>\n",
              "    <tr>\n",
              "      <th>10187</th>\n",
              "      <td>3. Thus, the decreased plasma cortisol level during alprazolam treatment of panic disorder was suggested to be caused not by symptom alleviation due to alprazolam but by alprazolam administration itself.</td>\n",
              "      <td>3 thus decreased plasma cortisol level alprazolam treatment panic disorder suggested caused symptom alleviation due alprazolam alprazolam administration</td>\n",
              "      <td>[3, thus, decreased, plasma, cortisol, level, alprazolam, treatment, panic, disorder, suggested, caused, symptom, alleviation, due, alprazolam, alprazolam, administration]</td>\n",
              "      <td>1</td>\n",
              "      <td>1</td>\n",
              "      <td>0</td>\n",
              "    </tr>\n",
              "    <tr>\n",
              "      <th>3366</th>\n",
              "      <td>PURPOSE: To report two cases of acute endophthalmitis following intravitreal bevacizumab injection.</td>\n",
              "      <td>purpose report two cases acute endophthalmitis following intravitreal bevacizumab injection</td>\n",
              "      <td>[purpose, report, two, cases, acute, endophthalmitis, following, intravitreal, bevacizumab, injection]</td>\n",
              "      <td>1</td>\n",
              "      <td>1</td>\n",
              "      <td>0</td>\n",
              "    </tr>\n",
              "    <tr>\n",
              "      <th>3706</th>\n",
              "      <td>Methemoglobinemia: an occupational hazard of phenylpropanolamine production.</td>\n",
              "      <td>methemoglobinemia occupational hazard phenylpropanolamine production</td>\n",
              "      <td>[methemoglobinemia, occupational, hazard, phenylpropanolamine, production]</td>\n",
              "      <td>1</td>\n",
              "      <td>1</td>\n",
              "      <td>0</td>\n",
              "    </tr>\n",
              "  </tbody>\n",
              "</table>\n",
              "<p>692 rows × 6 columns</p>\n",
              "</div>"
            ],
            "text/plain": [
              "                                                                                                                                                                                                              Text  ... Neg\n",
              "4288                                             In-vitro rechallenge of the patient's lymphocytes with cytochrome P-450 generated metabolites of phenobarbital showed extensive cytotoxicity compared to control.  ...   1\n",
              "8196    PURPOSE: The case of a patient who developed aseptic meningitis, hemolytic anemia, hepatitis, and orthostatic hypotension simultaneously during treatment with trimethoprim-sulfamethoxazole is described.  ...   0\n",
              "7558                                         The necessity of placing such grafts behind the ureters is reiterated and the routine performance of preoperative and postoperative excretory urography is suggested.  ...   1\n",
              "7198                                                                                                                        Retinal dysfunction and anterior segment deposits in a patient treated with rifabutin.  ...   0\n",
              "4639                                       An 83-year-old man receiving glipizide 10 mg bid developed symptomatic hypoglycemia within three days of adding trimethoprim/sulfamethoxazole (TMP/SMX) to his regimen.  ...   0\n",
              "...                                                                                                                                                                                                            ...  ...  ..\n",
              "1530                                                                                                                                         Clinic records were reviewed to extract clinical and laboratory data.  ...   1\n",
              "12398                                                                                                                               Systemic allergic reactions to aprotinin injection around the Achilles tendon.  ...   1\n",
              "10187  3. Thus, the decreased plasma cortisol level during alprazolam treatment of panic disorder was suggested to be caused not by symptom alleviation due to alprazolam but by alprazolam administration itself.  ...   0\n",
              "3366                                                                                                           PURPOSE: To report two cases of acute endophthalmitis following intravitreal bevacizumab injection.  ...   0\n",
              "3706                                                                                                                                  Methemoglobinemia: an occupational hazard of phenylpropanolamine production.  ...   0\n",
              "\n",
              "[692 rows x 6 columns]"
            ]
          },
          "metadata": {
            "tags": []
          },
          "execution_count": 76
        }
      ]
    },
    {
      "cell_type": "code",
      "metadata": {
        "colab": {
          "base_uri": "https://localhost:8080/",
          "height": 223
        },
        "id": "XB1ccXnKQsoM",
        "outputId": "3dec0c3c-4378-4105-e974-6a254b262805"
      },
      "source": [
        "# serialize model to JSON\n",
        "# later...\n",
        "from keras.models import model_from_json\n",
        "path=\"/content/drive/MyDrive/dataSummary/deep_model/\"\n",
        "model_json = model.to_json()\n",
        "with open(path+\"model_new.json\", \"w\") as json_file:\n",
        "    json_file.write(model_json)\n",
        "# serialize weights to HDF5\n",
        "model.save_weights(path+\"model_new.h5\")\n",
        "print(\"Saved model to disk Hi\")"
      ],
      "execution_count": null,
      "outputs": [
        {
          "output_type": "error",
          "ename": "NameError",
          "evalue": "ignored",
          "traceback": [
            "\u001b[0;31m---------------------------------------------------------------------------\u001b[0m",
            "\u001b[0;31mNameError\u001b[0m                                 Traceback (most recent call last)",
            "\u001b[0;32m<ipython-input-1-e1775e425209>\u001b[0m in \u001b[0;36m<module>\u001b[0;34m()\u001b[0m\n\u001b[1;32m      3\u001b[0m \u001b[0;32mfrom\u001b[0m \u001b[0mkeras\u001b[0m\u001b[0;34m.\u001b[0m\u001b[0mmodels\u001b[0m \u001b[0;32mimport\u001b[0m \u001b[0mmodel_from_json\u001b[0m\u001b[0;34m\u001b[0m\u001b[0;34m\u001b[0m\u001b[0m\n\u001b[1;32m      4\u001b[0m \u001b[0mpath\u001b[0m\u001b[0;34m=\u001b[0m\u001b[0;34m\"/content/drive/MyDrive/dataSummary/deep_model/\"\u001b[0m\u001b[0;34m\u001b[0m\u001b[0;34m\u001b[0m\u001b[0m\n\u001b[0;32m----> 5\u001b[0;31m \u001b[0mmodel_json\u001b[0m \u001b[0;34m=\u001b[0m \u001b[0mmodel\u001b[0m\u001b[0;34m.\u001b[0m\u001b[0mto_json\u001b[0m\u001b[0;34m(\u001b[0m\u001b[0;34m)\u001b[0m\u001b[0;34m\u001b[0m\u001b[0;34m\u001b[0m\u001b[0m\n\u001b[0m\u001b[1;32m      6\u001b[0m \u001b[0;32mwith\u001b[0m \u001b[0mopen\u001b[0m\u001b[0;34m(\u001b[0m\u001b[0mpath\u001b[0m\u001b[0;34m+\u001b[0m\u001b[0;34m\"model_new.json\"\u001b[0m\u001b[0;34m,\u001b[0m \u001b[0;34m\"w\"\u001b[0m\u001b[0;34m)\u001b[0m \u001b[0;32mas\u001b[0m \u001b[0mjson_file\u001b[0m\u001b[0;34m:\u001b[0m\u001b[0;34m\u001b[0m\u001b[0;34m\u001b[0m\u001b[0m\n\u001b[1;32m      7\u001b[0m     \u001b[0mjson_file\u001b[0m\u001b[0;34m.\u001b[0m\u001b[0mwrite\u001b[0m\u001b[0;34m(\u001b[0m\u001b[0mmodel_json\u001b[0m\u001b[0;34m)\u001b[0m\u001b[0;34m\u001b[0m\u001b[0;34m\u001b[0m\u001b[0m\n",
            "\u001b[0;31mNameError\u001b[0m: name 'model' is not defined"
          ]
        }
      ]
    },
    {
      "cell_type": "code",
      "metadata": {
        "id": "2Fy8UyL62Sd7",
        "colab": {
          "base_uri": "https://localhost:8080/"
        },
        "outputId": "9c8cb0e2-2f66-4270-bbb5-9a256750bda7"
      },
      "source": [
        "\n",
        "# load json and create model\n",
        "json_file = open('/content/drive/MyDrive/dataSummary/deep_model/model.json', 'r')\n",
        "loaded_model_json = json_file.read()\n",
        "json_file.close()\n",
        "loaded_model = model_from_json(loaded_model_json)\n",
        "# load weights into new model\n",
        "loaded_model.load_weights(\"/content/drive/MyDrive/dataSummary/deep_model/model.h5\")\n",
        "print(\"Loaded model from disk\")\n",
        " \n",
        "# evaluate loaded model on test data\n",
        "loaded_model.compile(loss='binary_crossentropy', optimizer='rmsprop', metrics=['accuracy'])\n"
      ],
      "execution_count": null,
      "outputs": [
        {
          "output_type": "stream",
          "text": [
            "Loaded model from disk\n"
          ],
          "name": "stdout"
        }
      ]
    },
    {
      "cell_type": "code",
      "metadata": {
        "colab": {
          "base_uri": "https://localhost:8080/"
        },
        "id": "gnZk2BKOjLFX",
        "outputId": "076a139e-b34b-498b-dbc0-cd9f7a9197eb"
      },
      "source": [
        "loaded_model"
      ],
      "execution_count": null,
      "outputs": [
        {
          "output_type": "execute_result",
          "data": {
            "text/plain": [
              "<keras.engine.functional.Functional at 0x7fed34588d10>"
            ]
          },
          "metadata": {
            "tags": []
          },
          "execution_count": 7
        }
      ]
    },
    {
      "cell_type": "code",
      "metadata": {
        "colab": {
          "base_uri": "https://localhost:8080/",
          "height": 175
        },
        "id": "MA6JW1QajNuK",
        "outputId": "11707842-e92e-4b5e-f5f9-74fa390890de"
      },
      "source": [
        "score = loaded_model.evaluate(X, Y, verbose=0)\n",
        "print(\"%s: %.2f%%\" % (loaded_model.metrics_names[1], score[1]*100))"
      ],
      "execution_count": null,
      "outputs": [
        {
          "output_type": "error",
          "ename": "NameError",
          "evalue": "ignored",
          "traceback": [
            "\u001b[0;31m---------------------------------------------------------------------------\u001b[0m",
            "\u001b[0;31mNameError\u001b[0m                                 Traceback (most recent call last)",
            "\u001b[0;32m<ipython-input-32-d89cf4de0f7b>\u001b[0m in \u001b[0;36m<module>\u001b[0;34m()\u001b[0m\n\u001b[0;32m----> 1\u001b[0;31m \u001b[0mscore\u001b[0m \u001b[0;34m=\u001b[0m \u001b[0mloaded_model\u001b[0m\u001b[0;34m.\u001b[0m\u001b[0mevaluate\u001b[0m\u001b[0;34m(\u001b[0m\u001b[0mX\u001b[0m\u001b[0;34m,\u001b[0m \u001b[0mY\u001b[0m\u001b[0;34m,\u001b[0m \u001b[0mverbose\u001b[0m\u001b[0;34m=\u001b[0m\u001b[0;36m0\u001b[0m\u001b[0;34m)\u001b[0m\u001b[0;34m\u001b[0m\u001b[0;34m\u001b[0m\u001b[0m\n\u001b[0m\u001b[1;32m      2\u001b[0m \u001b[0mprint\u001b[0m\u001b[0;34m(\u001b[0m\u001b[0;34m\"%s: %.2f%%\"\u001b[0m \u001b[0;34m%\u001b[0m \u001b[0;34m(\u001b[0m\u001b[0mloaded_model\u001b[0m\u001b[0;34m.\u001b[0m\u001b[0mmetrics_names\u001b[0m\u001b[0;34m[\u001b[0m\u001b[0;36m1\u001b[0m\u001b[0;34m]\u001b[0m\u001b[0;34m,\u001b[0m \u001b[0mscore\u001b[0m\u001b[0;34m[\u001b[0m\u001b[0;36m1\u001b[0m\u001b[0;34m]\u001b[0m\u001b[0;34m*\u001b[0m\u001b[0;36m100\u001b[0m\u001b[0;34m)\u001b[0m\u001b[0;34m)\u001b[0m\u001b[0;34m\u001b[0m\u001b[0;34m\u001b[0m\u001b[0m\n",
            "\u001b[0;31mNameError\u001b[0m: name 'X' is not defined"
          ]
        }
      ]
    },
    {
      "cell_type": "code",
      "metadata": {
        "id": "LRQEKjDojWLK"
      },
      "source": [
        "data_test[\"prediction_labels\"]=prediction_labels"
      ],
      "execution_count": null,
      "outputs": []
    },
    {
      "cell_type": "code",
      "metadata": {
        "colab": {
          "base_uri": "https://localhost:8080/",
          "height": 895
        },
        "id": "E2roegVBPIVy",
        "outputId": "2b2379bf-4e6c-4100-9283-3e525ccd1137"
      },
      "source": [
        "data_test"
      ],
      "execution_count": null,
      "outputs": [
        {
          "output_type": "execute_result",
          "data": {
            "text/html": [
              "<div>\n",
              "<style scoped>\n",
              "    .dataframe tbody tr th:only-of-type {\n",
              "        vertical-align: middle;\n",
              "    }\n",
              "\n",
              "    .dataframe tbody tr th {\n",
              "        vertical-align: top;\n",
              "    }\n",
              "\n",
              "    .dataframe thead th {\n",
              "        text-align: right;\n",
              "    }\n",
              "</style>\n",
              "<table border=\"1\" class=\"dataframe\">\n",
              "  <thead>\n",
              "    <tr style=\"text-align: right;\">\n",
              "      <th></th>\n",
              "      <th>Text</th>\n",
              "      <th>Text_Final</th>\n",
              "      <th>tokens</th>\n",
              "      <th>Label</th>\n",
              "      <th>Pos</th>\n",
              "      <th>Neg</th>\n",
              "      <th>prediction_labels</th>\n",
              "    </tr>\n",
              "  </thead>\n",
              "  <tbody>\n",
              "    <tr>\n",
              "      <th>4288</th>\n",
              "      <td>In-vitro rechallenge of the patient's lymphocytes with cytochrome P-450 generated metabolites of phenobarbital showed extensive cytotoxicity compared to control.</td>\n",
              "      <td>invitro rechallenge patients lymphocytes cytochrome p450 generated metabolites phenobarbital showed extensive cytotoxicity compared control</td>\n",
              "      <td>[invitro, rechallenge, patients, lymphocytes, cytochrome, p450, generated, metabolites, phenobarbital, showed, extensive, cytotoxicity, compared, control]</td>\n",
              "      <td>0</td>\n",
              "      <td>0</td>\n",
              "      <td>1</td>\n",
              "      <td>0</td>\n",
              "    </tr>\n",
              "    <tr>\n",
              "      <th>8196</th>\n",
              "      <td>PURPOSE: The case of a patient who developed aseptic meningitis, hemolytic anemia, hepatitis, and orthostatic hypotension simultaneously during treatment with trimethoprim-sulfamethoxazole is described.</td>\n",
              "      <td>purpose case patient developed aseptic meningitis hemolytic anemia hepatitis orthostatic hypotension simultaneously treatment trimethoprimsulfamethoxazole described</td>\n",
              "      <td>[purpose, case, patient, developed, aseptic, meningitis, hemolytic, anemia, hepatitis, orthostatic, hypotension, simultaneously, treatment, trimethoprimsulfamethoxazole, described]</td>\n",
              "      <td>1</td>\n",
              "      <td>1</td>\n",
              "      <td>0</td>\n",
              "      <td>1</td>\n",
              "    </tr>\n",
              "    <tr>\n",
              "      <th>7558</th>\n",
              "      <td>The necessity of placing such grafts behind the ureters is reiterated and the routine performance of preoperative and postoperative excretory urography is suggested.</td>\n",
              "      <td>necessity placing grafts behind ureters reiterated routine performance preoperative postoperative excretory urography suggested</td>\n",
              "      <td>[necessity, placing, grafts, behind, ureters, reiterated, routine, performance, preoperative, postoperative, excretory, urography, suggested]</td>\n",
              "      <td>0</td>\n",
              "      <td>0</td>\n",
              "      <td>1</td>\n",
              "      <td>0</td>\n",
              "    </tr>\n",
              "    <tr>\n",
              "      <th>7198</th>\n",
              "      <td>Retinal dysfunction and anterior segment deposits in a patient treated with rifabutin.</td>\n",
              "      <td>retinal dysfunction anterior segment deposits patient treated rifabutin</td>\n",
              "      <td>[retinal, dysfunction, anterior, segment, deposits, patient, treated, rifabutin]</td>\n",
              "      <td>1</td>\n",
              "      <td>1</td>\n",
              "      <td>0</td>\n",
              "      <td>1</td>\n",
              "    </tr>\n",
              "    <tr>\n",
              "      <th>4639</th>\n",
              "      <td>An 83-year-old man receiving glipizide 10 mg bid developed symptomatic hypoglycemia within three days of adding trimethoprim/sulfamethoxazole (TMP/SMX) to his regimen.</td>\n",
              "      <td>83yearold man receiving glipizide 10 mg bid developed symptomatic hypoglycemia within three days adding trimethoprimsulfamethoxazole tmpsmx regimen</td>\n",
              "      <td>[83yearold, man, receiving, glipizide, 10, mg, bid, developed, symptomatic, hypoglycemia, within, three, days, adding, trimethoprimsulfamethoxazole, tmpsmx, regimen]</td>\n",
              "      <td>1</td>\n",
              "      <td>1</td>\n",
              "      <td>0</td>\n",
              "      <td>1</td>\n",
              "    </tr>\n",
              "    <tr>\n",
              "      <th>...</th>\n",
              "      <td>...</td>\n",
              "      <td>...</td>\n",
              "      <td>...</td>\n",
              "      <td>...</td>\n",
              "      <td>...</td>\n",
              "      <td>...</td>\n",
              "      <td>...</td>\n",
              "    </tr>\n",
              "    <tr>\n",
              "      <th>1530</th>\n",
              "      <td>Clinic records were reviewed to extract clinical and laboratory data.</td>\n",
              "      <td>clinic records reviewed extract clinical laboratory data</td>\n",
              "      <td>[clinic, records, reviewed, extract, clinical, laboratory, data]</td>\n",
              "      <td>0</td>\n",
              "      <td>0</td>\n",
              "      <td>1</td>\n",
              "      <td>0</td>\n",
              "    </tr>\n",
              "    <tr>\n",
              "      <th>12398</th>\n",
              "      <td>Systemic allergic reactions to aprotinin injection around the Achilles tendon.</td>\n",
              "      <td>systemic allergic reactions aprotinin injection around achilles tendon</td>\n",
              "      <td>[systemic, allergic, reactions, aprotinin, injection, around, achilles, tendon]</td>\n",
              "      <td>0</td>\n",
              "      <td>0</td>\n",
              "      <td>1</td>\n",
              "      <td>1</td>\n",
              "    </tr>\n",
              "    <tr>\n",
              "      <th>10187</th>\n",
              "      <td>3. Thus, the decreased plasma cortisol level during alprazolam treatment of panic disorder was suggested to be caused not by symptom alleviation due to alprazolam but by alprazolam administration itself.</td>\n",
              "      <td>3 thus decreased plasma cortisol level alprazolam treatment panic disorder suggested caused symptom alleviation due alprazolam alprazolam administration</td>\n",
              "      <td>[3, thus, decreased, plasma, cortisol, level, alprazolam, treatment, panic, disorder, suggested, caused, symptom, alleviation, due, alprazolam, alprazolam, administration]</td>\n",
              "      <td>1</td>\n",
              "      <td>1</td>\n",
              "      <td>0</td>\n",
              "      <td>1</td>\n",
              "    </tr>\n",
              "    <tr>\n",
              "      <th>3366</th>\n",
              "      <td>PURPOSE: To report two cases of acute endophthalmitis following intravitreal bevacizumab injection.</td>\n",
              "      <td>purpose report two cases acute endophthalmitis following intravitreal bevacizumab injection</td>\n",
              "      <td>[purpose, report, two, cases, acute, endophthalmitis, following, intravitreal, bevacizumab, injection]</td>\n",
              "      <td>1</td>\n",
              "      <td>1</td>\n",
              "      <td>0</td>\n",
              "      <td>1</td>\n",
              "    </tr>\n",
              "    <tr>\n",
              "      <th>3706</th>\n",
              "      <td>Methemoglobinemia: an occupational hazard of phenylpropanolamine production.</td>\n",
              "      <td>methemoglobinemia occupational hazard phenylpropanolamine production</td>\n",
              "      <td>[methemoglobinemia, occupational, hazard, phenylpropanolamine, production]</td>\n",
              "      <td>1</td>\n",
              "      <td>1</td>\n",
              "      <td>0</td>\n",
              "      <td>1</td>\n",
              "    </tr>\n",
              "  </tbody>\n",
              "</table>\n",
              "<p>692 rows × 7 columns</p>\n",
              "</div>"
            ],
            "text/plain": [
              "                                                                                                                                                                                                              Text  ... prediction_labels\n",
              "4288                                             In-vitro rechallenge of the patient's lymphocytes with cytochrome P-450 generated metabolites of phenobarbital showed extensive cytotoxicity compared to control.  ...                 0\n",
              "8196    PURPOSE: The case of a patient who developed aseptic meningitis, hemolytic anemia, hepatitis, and orthostatic hypotension simultaneously during treatment with trimethoprim-sulfamethoxazole is described.  ...                 1\n",
              "7558                                         The necessity of placing such grafts behind the ureters is reiterated and the routine performance of preoperative and postoperative excretory urography is suggested.  ...                 0\n",
              "7198                                                                                                                        Retinal dysfunction and anterior segment deposits in a patient treated with rifabutin.  ...                 1\n",
              "4639                                       An 83-year-old man receiving glipizide 10 mg bid developed symptomatic hypoglycemia within three days of adding trimethoprim/sulfamethoxazole (TMP/SMX) to his regimen.  ...                 1\n",
              "...                                                                                                                                                                                                            ...  ...               ...\n",
              "1530                                                                                                                                         Clinic records were reviewed to extract clinical and laboratory data.  ...                 0\n",
              "12398                                                                                                                               Systemic allergic reactions to aprotinin injection around the Achilles tendon.  ...                 1\n",
              "10187  3. Thus, the decreased plasma cortisol level during alprazolam treatment of panic disorder was suggested to be caused not by symptom alleviation due to alprazolam but by alprazolam administration itself.  ...                 1\n",
              "3366                                                                                                           PURPOSE: To report two cases of acute endophthalmitis following intravitreal bevacizumab injection.  ...                 1\n",
              "3706                                                                                                                                  Methemoglobinemia: an occupational hazard of phenylpropanolamine production.  ...                 1\n",
              "\n",
              "[692 rows x 7 columns]"
            ]
          },
          "metadata": {
            "tags": []
          },
          "execution_count": 79
        }
      ]
    },
    {
      "cell_type": "code",
      "metadata": {
        "colab": {
          "base_uri": "https://localhost:8080/",
          "height": 665
        },
        "id": "6i5m43raPKch",
        "outputId": "00561103-5f68-4c95-c0ff-92d75e2626b5"
      },
      "source": [
        "pd.set_option(\"max_colwidth\",1000)\n",
        "data_test[['Text','Text_Final', 'tokens', 'Label', 'prediction_labels']][data_test[\"Label\"]!=data_test[\"prediction_labels\"]].sample(10)"
      ],
      "execution_count": null,
      "outputs": [
        {
          "output_type": "execute_result",
          "data": {
            "text/html": [
              "<div>\n",
              "<style scoped>\n",
              "    .dataframe tbody tr th:only-of-type {\n",
              "        vertical-align: middle;\n",
              "    }\n",
              "\n",
              "    .dataframe tbody tr th {\n",
              "        vertical-align: top;\n",
              "    }\n",
              "\n",
              "    .dataframe thead th {\n",
              "        text-align: right;\n",
              "    }\n",
              "</style>\n",
              "<table border=\"1\" class=\"dataframe\">\n",
              "  <thead>\n",
              "    <tr style=\"text-align: right;\">\n",
              "      <th></th>\n",
              "      <th>Text</th>\n",
              "      <th>Text_Final</th>\n",
              "      <th>tokens</th>\n",
              "      <th>Label</th>\n",
              "      <th>prediction_labels</th>\n",
              "    </tr>\n",
              "  </thead>\n",
              "  <tbody>\n",
              "    <tr>\n",
              "      <th>3837</th>\n",
              "      <td>Case 3: A 29-year-old female alcoholic complained of general fatigue and a slight fever after 1.5 years of abstinence with cyanamide treatment.</td>\n",
              "      <td>case 3 29yearold female alcoholic complained general fatigue slight fever 15 years abstinence cyanamide treatment</td>\n",
              "      <td>[case, 3, 29yearold, female, alcoholic, complained, general, fatigue, slight, fever, 15, years, abstinence, cyanamide, treatment]</td>\n",
              "      <td>1</td>\n",
              "      <td>0</td>\n",
              "    </tr>\n",
              "    <tr>\n",
              "      <th>6192</th>\n",
              "      <td>We report the case of a patient who co-ingested a tricyclic antidepressant (2500 mg of doxepin) and a neuroleptic drug (3500 mg of prothipendyl).</td>\n",
              "      <td>report case patient coingested tricyclic antidepressant 2500 mg doxepin neuroleptic drug 3500 mg prothipendyl</td>\n",
              "      <td>[report, case, patient, coingested, tricyclic, antidepressant, 2500, mg, doxepin, neuroleptic, drug, 3500, mg, prothipendyl]</td>\n",
              "      <td>0</td>\n",
              "      <td>1</td>\n",
              "    </tr>\n",
              "    <tr>\n",
              "      <th>31</th>\n",
              "      <td>In four patients, spasm occurred spontaneous and in one patient after 0.05 mg of ergonovine.</td>\n",
              "      <td>four patients spasm occurred spontaneous one patient 005 mg ergonovine</td>\n",
              "      <td>[four, patients, spasm, occurred, spontaneous, one, patient, 005, mg, ergonovine]</td>\n",
              "      <td>1</td>\n",
              "      <td>0</td>\n",
              "    </tr>\n",
              "    <tr>\n",
              "      <th>357</th>\n",
              "      <td>Benzocaine-induced methemoglobinemia has been reported in man, dogs, and cats.</td>\n",
              "      <td>benzocaineinduced methemoglobinemia reported man dogs cats</td>\n",
              "      <td>[benzocaineinduced, methemoglobinemia, reported, man, dogs, cats]</td>\n",
              "      <td>1</td>\n",
              "      <td>0</td>\n",
              "    </tr>\n",
              "    <tr>\n",
              "      <th>2157</th>\n",
              "      <td>Transient visual anomalies associated with drug treatment for spastic colon.</td>\n",
              "      <td>transient visual anomalies associated drug treatment spastic colon</td>\n",
              "      <td>[transient, visual, anomalies, associated, drug, treatment, spastic, colon]</td>\n",
              "      <td>0</td>\n",
              "      <td>1</td>\n",
              "    </tr>\n",
              "    <tr>\n",
              "      <th>9957</th>\n",
              "      <td>Unusual cause of methadone poisoning.</td>\n",
              "      <td>unusual cause methadone poisoning</td>\n",
              "      <td>[unusual, cause, methadone, poisoning]</td>\n",
              "      <td>0</td>\n",
              "      <td>1</td>\n",
              "    </tr>\n",
              "    <tr>\n",
              "      <th>6418</th>\n",
              "      <td>A patient with generalized MG was effectively managed with MM but developed CNS lymphoma after 3 years of treatment.</td>\n",
              "      <td>patient generalized mg effectively managed mm developed cns lymphoma 3 years treatment</td>\n",
              "      <td>[patient, generalized, mg, effectively, managed, mm, developed, cns, lymphoma, 3, years, treatment]</td>\n",
              "      <td>1</td>\n",
              "      <td>0</td>\n",
              "    </tr>\n",
              "    <tr>\n",
              "      <th>6561</th>\n",
              "      <td>The elderly are also particularly prone to develop toxic side effects from standard antidepressive agents.</td>\n",
              "      <td>elderly also particularly prone develop toxic side effects standard antidepressive agents</td>\n",
              "      <td>[elderly, also, particularly, prone, develop, toxic, side, effects, standard, antidepressive, agents]</td>\n",
              "      <td>0</td>\n",
              "      <td>1</td>\n",
              "    </tr>\n",
              "    <tr>\n",
              "      <th>9835</th>\n",
              "      <td>Case 3: A 29-year-old female alcoholic complained of general fatigue and a slight fever after 1.5 years of abstinence with cyanamide treatment.</td>\n",
              "      <td>case 3 29yearold female alcoholic complained general fatigue slight fever 15 years abstinence cyanamide treatment</td>\n",
              "      <td>[case, 3, 29yearold, female, alcoholic, complained, general, fatigue, slight, fever, 15, years, abstinence, cyanamide, treatment]</td>\n",
              "      <td>1</td>\n",
              "      <td>0</td>\n",
              "    </tr>\n",
              "    <tr>\n",
              "      <th>10999</th>\n",
              "      <td>Some days after the administration of a third bolus of ABVD (adriamycin, bleomycin, vinblastine, dacarbazine) a patient affected by immunoblastic lymphoma underwent a neurotoxic crisis.</td>\n",
              "      <td>days administration third bolus abvd adriamycin bleomycin vinblastine dacarbazine patient affected immunoblastic lymphoma underwent neurotoxic crisis</td>\n",
              "      <td>[days, administration, third, bolus, abvd, adriamycin, bleomycin, vinblastine, dacarbazine, patient, affected, immunoblastic, lymphoma, underwent, neurotoxic, crisis]</td>\n",
              "      <td>0</td>\n",
              "      <td>1</td>\n",
              "    </tr>\n",
              "  </tbody>\n",
              "</table>\n",
              "</div>"
            ],
            "text/plain": [
              "                                                                                                                                                                                            Text  ... prediction_labels\n",
              "3837                                             Case 3: A 29-year-old female alcoholic complained of general fatigue and a slight fever after 1.5 years of abstinence with cyanamide treatment.  ...                 0\n",
              "6192                                           We report the case of a patient who co-ingested a tricyclic antidepressant (2500 mg of doxepin) and a neuroleptic drug (3500 mg of prothipendyl).  ...                 1\n",
              "31                                                                                                  In four patients, spasm occurred spontaneous and in one patient after 0.05 mg of ergonovine.  ...                 0\n",
              "357                                                                                                               Benzocaine-induced methemoglobinemia has been reported in man, dogs, and cats.  ...                 0\n",
              "2157                                                                                                                Transient visual anomalies associated with drug treatment for spastic colon.  ...                 1\n",
              "9957                                                                                                                                                       Unusual cause of methadone poisoning.  ...                 1\n",
              "6418                                                                        A patient with generalized MG was effectively managed with MM but developed CNS lymphoma after 3 years of treatment.  ...                 0\n",
              "6561                                                                                  The elderly are also particularly prone to develop toxic side effects from standard antidepressive agents.  ...                 1\n",
              "9835                                             Case 3: A 29-year-old female alcoholic complained of general fatigue and a slight fever after 1.5 years of abstinence with cyanamide treatment.  ...                 0\n",
              "10999  Some days after the administration of a third bolus of ABVD (adriamycin, bleomycin, vinblastine, dacarbazine) a patient affected by immunoblastic lymphoma underwent a neurotoxic crisis.  ...                 1\n",
              "\n",
              "[10 rows x 5 columns]"
            ]
          },
          "metadata": {
            "tags": []
          },
          "execution_count": 83
        }
      ]
    },
    {
      "cell_type": "code",
      "metadata": {
        "id": "6wiqUT2_P8W-"
      },
      "source": [
        ""
      ],
      "execution_count": null,
      "outputs": []
    }
  ]
}